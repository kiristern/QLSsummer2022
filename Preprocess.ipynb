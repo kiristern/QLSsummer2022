{
 "cells": [
  {
   "cell_type": "markdown",
   "id": "ea7c84c9",
   "metadata": {},
   "source": [
    "# Following [SpaGE Tutorial](https://github.com/tabdelaal/SpaGE/blob/master/SpaGE_Tutorial.ipynb)"
   ]
  },
  {
   "cell_type": "markdown",
   "id": "7de4cc13",
   "metadata": {},
   "source": [
    "Integration of *osmFISH* spatial data with the *AllenSSp* scRNA-seq data"
   ]
  },
  {
   "cell_type": "code",
   "execution_count": 2,
   "id": "276e8209",
   "metadata": {},
   "outputs": [],
   "source": [
    "import numpy as np\n",
    "import pandas as pd\n",
    "import loompy\n",
    "import matplotlib.pyplot as plt\n",
    "\n",
    "import scipy\n",
    "import scipy.stats as st\n",
    "from scipy import linalg\n",
    "from scipy import sparse as sp\n",
    "import pickle\n",
    "from sklearn.metrics.pairwise import euclidean_distances\n",
    "\n",
    "import warnings\n",
    "warnings.filterwarnings('ignore')"
   ]
  },
  {
   "cell_type": "code",
   "execution_count": 3,
   "id": "86e3ff8b",
   "metadata": {},
   "outputs": [],
   "source": [
    "path = '/Volumes/LaCie/school/combine_lab/SpaGE/SpaGE_Datasets/'"
   ]
  },
  {
   "cell_type": "markdown",
   "id": "0e417a8d",
   "metadata": {},
   "source": [
    "Load and preprocess the AllenSSp dataset"
   ]
  },
  {
   "cell_type": "code",
   "execution_count": 4,
   "id": "9a43c24b",
   "metadata": {},
   "outputs": [],
   "source": [
    "RNA_data = pd.read_csv(path + 'scRNAseq/Allen_SSp/SSp_exons_matrix.csv',header=0,index_col=0,sep=',')\n",
    "\n",
    "# filter lowely expressed genes\n",
    "Genes_count = np.sum(RNA_data > 0, axis=1)\n",
    "RNA_data = RNA_data.loc[Genes_count >=10,:] # filter out genes expressed in <10 cells\n",
    "del Genes_count"
   ]
  },
  {
   "cell_type": "markdown",
   "id": "4a4374a3",
   "metadata": {},
   "source": [
    "Random select a gene for testing at very end (will perform cross validation on the training set)"
   ]
  },
  {
   "cell_type": "code",
   "execution_count": 5,
   "id": "7e31d0f2",
   "metadata": {},
   "outputs": [],
   "source": [
    "test_gene = RNA_data.sample(axis=0, random_state=42)\n",
    "RNA_data_train = RNA_data.drop(test_gene.index) # remove gene from training data"
   ]
  },
  {
   "cell_type": "markdown",
   "id": "c26968d0",
   "metadata": {},
   "source": [
    "# TODO: k-fold CV and LOOCV\n",
    "see: https://www.thepythoncode.com/article/kfold-cross-validation-using-sklearn-in-python"
   ]
  },
  {
   "cell_type": "code",
   "execution_count": 6,
   "id": "15dc42ed",
   "metadata": {},
   "outputs": [],
   "source": [
    "# Normalization\n",
    "def Log_Norm_cpm(x):\n",
    "    return np.log(((x/np.sum(x))*1000000) + 1) # divide counts within each cell by the total number of transcripts within that cell, scale by 10^6 and log1p transformed.\n",
    "\n",
    "RNA_ref_norm = RNA_data_train.apply(Log_Norm_cpm,axis=0)"
   ]
  },
  {
   "cell_type": "code",
   "execution_count": 7,
   "id": "e8da04eb",
   "metadata": {},
   "outputs": [],
   "source": [
    "# standardize gene expression \n",
    "RNA_ref = st.zscore(RNA_ref_norm)\n",
    "training_mean = scipy.mean(RNA_ref_norm, axis=0)\n",
    "training_std = st.tstd(RNA_ref_norm, axis=0)\n",
    "\n",
    "# normalize test set using training mean and std\n",
    "RNA_test = (test_gene - training_mean) / training_std"
   ]
  },
  {
   "cell_type": "markdown",
   "id": "b17cbb3e",
   "metadata": {},
   "source": [
    "# import Adj mat "
   ]
  },
  {
   "cell_type": "code",
   "execution_count": 11,
   "id": "5ad99940",
   "metadata": {},
   "outputs": [
    {
     "data": {
      "text/plain": [
       "matrix([[0.0000000e+00, 2.5932720e-09, 1.7135731e-07, ..., 2.1749336e-09,\n",
       "         3.4555194e-09, 1.3278232e-09],\n",
       "        [2.5932720e-09, 0.0000000e+00, 3.1704059e-09, ..., 6.5428489e-09,\n",
       "         8.7725800e-09, 4.2454338e-09],\n",
       "        [1.7135731e-07, 3.1704059e-09, 0.0000000e+00, ..., 2.3116113e-09,\n",
       "         4.6899338e-09, 1.4021613e-09],\n",
       "        ...,\n",
       "        [2.1749336e-09, 6.5428489e-09, 2.3116113e-09, ..., 0.0000000e+00,\n",
       "         2.1241020e-09, 2.7423431e-08],\n",
       "        [3.4555194e-09, 8.7725800e-09, 4.6899338e-09, ..., 2.1241020e-09,\n",
       "         0.0000000e+00, 1.5101378e-09],\n",
       "        [1.3278232e-09, 4.2454338e-09, 1.4021613e-09, ..., 2.7423431e-08,\n",
       "         1.5101378e-09, 0.0000000e+00]], dtype=float32)"
      ]
     },
     "execution_count": 11,
     "metadata": {},
     "output_type": "execute_result"
    }
   ],
   "source": [
    "# read in all pickle files\n",
    "with open(path+'symmnorm_weighted_adj_mat_crs.pickle', 'rb') as filepath:\n",
    "    while True:\n",
    "        try:\n",
    "            A = pickle.load(filepath)\n",
    "        except EOFError:\n",
    "            break    \n",
    "                    \n",
    "# uncompress Compressed Sparse Row matrix\n",
    "adj = A.todense()\n",
    "adj"
   ]
  },
  {
   "cell_type": "markdown",
   "id": "5874704a",
   "metadata": {},
   "source": [
    "# VGAE"
   ]
  },
  {
   "cell_type": "markdown",
   "id": "44965f86",
   "metadata": {},
   "source": [
    "import ST gene expression data"
   ]
  },
  {
   "cell_type": "code",
   "execution_count": 12,
   "id": "f3567546",
   "metadata": {},
   "outputs": [
    {
     "data": {
      "text/plain": [
       "array([[ 1.62137127,  1.77740124, -1.28549759, ..., -1.28549759,\n",
       "        -0.23703214, -0.41726383],\n",
       "       [ 2.72355252,  2.08806965,  0.16208098, ..., -0.95458504,\n",
       "         0.01794291, -0.60954469],\n",
       "       [ 2.45937972,  2.28947692,  1.11608695, ..., -0.95161135,\n",
       "        -0.46612482, -0.29391208],\n",
       "       ...,\n",
       "       [ 0.23206104, -0.42366561, -1.34240285, ..., -1.34240285,\n",
       "         0.23206104,  1.8484334 ],\n",
       "       [ 0.63252484, -1.04108455, -1.04108455, ..., -1.04108455,\n",
       "         0.63252484,  1.38918995],\n",
       "       [ 0.64703313, -1.14930012, -1.14930012, ..., -1.14930012,\n",
       "        -1.14930012,  1.58474506]])"
      ]
     },
     "execution_count": 12,
     "metadata": {},
     "output_type": "execute_result"
    }
   ],
   "source": [
    "gene_exp = np.load(path+'ST_gene_express.npy')\n",
    "gene_exp"
   ]
  }
 ],
 "metadata": {
  "@webio": {
   "lastCommId": null,
   "lastKernelId": null
  },
  "kernelspec": {
   "display_name": "Python 3.8.13 ('celldart': conda)",
   "language": "python",
   "name": "python3"
  },
  "language_info": {
   "codemirror_mode": {
    "name": "ipython",
    "version": 3
   },
   "file_extension": ".py",
   "mimetype": "text/x-python",
   "name": "python",
   "nbconvert_exporter": "python",
   "pygments_lexer": "ipython3",
   "version": "3.8.13"
  },
  "vscode": {
   "interpreter": {
    "hash": "557a2c393cdb7590709e2087c00bb1363f3c68e528711d433cbfdda06af9b7da"
   }
  }
 },
 "nbformat": 4,
 "nbformat_minor": 5
}
