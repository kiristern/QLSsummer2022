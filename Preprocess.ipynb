{
 "cells": [
  {
   "cell_type": "markdown",
   "id": "ea7c84c9",
   "metadata": {},
   "source": [
    "# Following [SpaGE Tutorial](https://github.com/tabdelaal/SpaGE/blob/master/SpaGE_Tutorial.ipynb)"
   ]
  },
  {
   "cell_type": "markdown",
   "id": "7de4cc13",
   "metadata": {},
   "source": [
    "Integration of *osmFISH* spatial data with the *AllenSSp* scRNA-seq data"
   ]
  },
  {
   "cell_type": "code",
   "execution_count": 1,
   "id": "276e8209",
   "metadata": {},
   "outputs": [],
   "source": [
    "import numpy as np\n",
    "import pandas as pd\n",
    "import loompy\n",
    "import matplotlib.pyplot as plt\n",
    "\n",
    "import scipy\n",
    "import scipy.stats as st\n",
    "from scipy import linalg\n",
    "from scipy import sparse as sp\n",
    "import pickle\n",
    "from sklearn.metrics.pairwise import euclidean_distances\n",
    "\n",
    "import warnings\n",
    "warnings.filterwarnings('ignore')"
   ]
  },
  {
   "cell_type": "code",
   "execution_count": 2,
   "id": "86e3ff8b",
   "metadata": {},
   "outputs": [],
   "source": [
    "path = '/Volumes/LaCie/school/combine_lab/SpaGE/SpaGE_Datasets/'"
   ]
  },
  {
   "cell_type": "markdown",
   "id": "0e417a8d",
   "metadata": {},
   "source": [
    "Load and preprocess the AllenSSp dataset"
   ]
  },
  {
   "cell_type": "code",
   "execution_count": null,
   "id": "9a43c24b",
   "metadata": {},
   "outputs": [],
   "source": [
    "RNA_data = pd.read_csv(path + 'scRNAseq/Allen_SSp/SSp_exons_matrix.csv',header=0,index_col=0,sep=',')\n",
    "\n",
    "# filter lowely expressed genes\n",
    "Genes_count = np.sum(RNA_data > 0, axis=1)\n",
    "RNA_data = RNA_data.loc[Genes_count >=10,:] # filter out genes expressed in <10 cells\n",
    "del Genes_count"
   ]
  },
  {
   "cell_type": "markdown",
   "id": "4a4374a3",
   "metadata": {},
   "source": [
    "Random select a gene for testing at very end (will perform cross validation on the training set)"
   ]
  },
  {
   "cell_type": "code",
   "execution_count": null,
   "id": "7e31d0f2",
   "metadata": {},
   "outputs": [],
   "source": [
    "test_gene = RNA_data.sample(axis=0, random_state=42)\n",
    "RNA_data_train = RNA_data.drop(test_gene.index) # remove gene from training data"
   ]
  },
  {
   "cell_type": "markdown",
   "id": "c26968d0",
   "metadata": {},
   "source": [
    "# TODO: k-fold CV and LOOCV\n",
    "see: https://www.thepythoncode.com/article/kfold-cross-validation-using-sklearn-in-python"
   ]
  },
  {
   "cell_type": "code",
   "execution_count": null,
   "id": "15dc42ed",
   "metadata": {},
   "outputs": [],
   "source": [
    "# Normalization\n",
    "def Log_Norm_cpm(x):\n",
    "    return np.log(((x/np.sum(x))*1000000) + 1) # divide counts within each cell by the total number of transcripts within that cell, scale by 10^6 and log1p transformed.\n",
    "\n",
    "RNA_ref_norm = RNA_data_train.apply(Log_Norm_cpm,axis=0)"
   ]
  },
  {
   "cell_type": "code",
   "execution_count": null,
   "id": "e8da04eb",
   "metadata": {},
   "outputs": [],
   "source": [
    "# standardize gene expression \n",
    "RNA_ref = st.zscore(RNA_ref_norm)\n",
    "training_mean = scipy.mean(RNA_ref_norm, axis=0)\n",
    "training_std = st.tstd(RNA_ref_norm, axis=0)\n",
    "\n",
    "# normalize test set using training mean and std\n",
    "RNA_test = (test_gene - training_mean) / training_std"
   ]
  },
  {
   "cell_type": "markdown",
   "id": "b17cbb3e",
   "metadata": {},
   "source": [
    "# import spatial data"
   ]
  },
  {
   "cell_type": "code",
   "execution_count": null,
   "id": "9cd87735",
   "metadata": {},
   "outputs": [],
   "source": [
    "ds = loompy.connect(path + 'Spatial/osmFISH/osmFISH_SScortex_mouse_all_cells.loom')\n",
    "FISH_Genes = ds.ra['Gene']   \n",
    "colAtr = ds.ca.keys()\n",
    "\n",
    "df = pd.DataFrame()\n",
    "for i in colAtr:\n",
    "    df[i] = ds.ca[i]\n",
    "\n",
    "osmFISH_meta = df.iloc[np.where(df.Valid == 1)[0], :]\n",
    "osmFISH_data = ds[:,:]\n",
    "osmFISH_data = osmFISH_data[:,np.where(df.Valid == 1)[0]]\n",
    "osmFISH_data = pd.DataFrame(data= osmFISH_data, index= FISH_Genes)\n",
    "\n",
    "del ds, colAtr, i, df, FISH_Genes\n",
    "\n",
    "# Select cortical regions only to match the AllenSSp dataset\n",
    "Cortex_Regions = ['Layer 2-3 lateral', 'Layer 2-3 medial', 'Layer 3-4', \n",
    "                  'Layer 4','Layer 5', 'Layer 6', 'Pia Layer 1']\n",
    "Cortical = np.stack(i in Cortex_Regions for i in osmFISH_meta.Region)\n",
    "\n",
    "osmFISH_meta = osmFISH_meta.iloc[Cortical,:]\n",
    "osmFISH_data = osmFISH_data.iloc[:,Cortical]\n",
    "del Cortex_Regions,Cortical"
   ]
  },
  {
   "cell_type": "code",
   "execution_count": null,
   "id": "fbd16aa3",
   "metadata": {},
   "outputs": [],
   "source": [
    "osmFISH_meta"
   ]
  },
  {
   "cell_type": "code",
   "execution_count": null,
   "id": "0cc300f2",
   "metadata": {},
   "outputs": [],
   "source": [
    "# Normalization\n",
    "cell_count = np.sum(osmFISH_data,axis=0)\n",
    "def Log_Norm_spatial(x):\n",
    "    return np.log(((x/np.sum(x))*np.median(cell_count)) + 1)\n",
    "\n",
    "osmFISH_data_norm = osmFISH_data.apply(Log_Norm_spatial,axis=0)"
   ]
  },
  {
   "cell_type": "code",
   "execution_count": null,
   "id": "854e4720",
   "metadata": {},
   "outputs": [],
   "source": [
    "# scale\n",
    "ST = st.zscore(osmFISH_data_norm)\n",
    "ST"
   ]
  },
  {
   "cell_type": "markdown",
   "id": "14e505cd",
   "metadata": {},
   "source": [
    "Import saved Adjacency matrices:"
   ]
  },
  {
   "cell_type": "code",
   "execution_count": 40,
   "id": "0f455790",
   "metadata": {},
   "outputs": [
    {
     "name": "stdout",
     "output_type": "stream",
     "text": [
      "0 adj_mat_crs_100.pickle\n",
      "1 adj_mat_crs_140.pickle\n",
      "2 adj_mat_crs_180.pickle\n",
      "3 adj_mat_crs_210.pickle\n",
      "4 adj_mat_crs_220.pickle\n",
      "5 adj_mat_crs_260.pickle\n",
      "6 adj_mat_crs_300.pickle\n",
      "7 adj_mat_crs_340.pickle\n",
      "8 adj_mat_crs_380.pickle\n",
      "9 adj_mat_crs_400.pickle\n",
      "average cell neighborhood for file 0 : 0.15036710719530103\n",
      "average cell neighborhood for file 1 : 0.34772393538913365\n",
      "average cell neighborhood for file 2 : 0.6807635829662262\n",
      "average cell neighborhood for file 3 : 0.9985315712187959\n",
      "average cell neighborhood for file 4 : 1.1236417033773862\n",
      "average cell neighborhood for file 5 : 1.7527165932452275\n",
      "average cell neighborhood for file 6 : 2.4176211453744494\n",
      "average cell neighborhood for file 7 : 3.2052863436123347\n",
      "average cell neighborhood for file 8 : 4.108076358296622\n",
      "average cell neighborhood for file 9 : 4.59265785609398\n"
     ]
    }
   ],
   "source": [
    "import os \n",
    "\n",
    "A = []\n",
    "# read in all pickle files\n",
    "for i, file in enumerate([path for path in os.listdir(path) if path.endswith('pickle')]):\n",
    "    print(i, file)\n",
    "    for i in [path+file]:\n",
    "        with open(i, 'rb') as filepath:\n",
    "            while True:\n",
    "                try:\n",
    "                    A.append(pickle.load(filepath))\n",
    "                except EOFError:\n",
    "                    break    \n",
    "                    \n",
    "# uncompress Compressed Sparse Row matrix\n",
    "adj_mat = []\n",
    "for i in range(len(A)):\n",
    "    adj_mat.append(A[i].todense())\n",
    "\n",
    "# get number of counts for all connected cells of cell i\n",
    "sum_neighb_cell = []\n",
    "for file in range(len(adj_mat)):\n",
    "     sum_neighb_cell.append([(adj_mat[file][i][np.where(adj_mat[file][i] != 0)].size) for i in range(len(adj_mat[file]))])\n",
    "\n",
    "# get average cell neighbourhood by threshold\n",
    "for i in range(len(adj_mat)):\n",
    "    avg_cell_neib = sum(sum_neighb_cell[i])/len(adj_mat[0])\n",
    "    print('average cell neighborhood for file', i,':', avg_cell_neib)"
   ]
  },
  {
   "cell_type": "markdown",
   "id": "0a9efda3",
   "metadata": {},
   "source": [
    "GNCG [supp](https://genomebiology.biomedcentral.com/articles/10.1186/s13059-020-02214-w#Sec16)\n",
    "\n",
    "seqFISH+ avg cell neighbourhood for different distance threshold:\n",
    "- 100: 1.2\n",
    "- 140: 2.5 <-- threshold with the best validation performace\n",
    "- 180: 4.0\n",
    "- 220: 5.8\n",
    "\n",
    "MERFISH:\n",
    "- 130: 1.03 <-- threshold with best validation performance\n",
    "- 150: 1.52\n",
    "- 170: 2.05\n",
    "- 200: 2.95\n",
    "- 240: 4.25\n",
    "\n",
    "Try thresholds:\n",
    "- 220: 1.12\n",
    "- 300: 2.42"
   ]
  },
  {
   "cell_type": "code",
   "execution_count": 41,
   "id": "8d0f8c12",
   "metadata": {},
   "outputs": [],
   "source": [
    "A200 = adj_mat[4]\n",
    "A300 = adj_mat[6]"
   ]
  },
  {
   "cell_type": "code",
   "execution_count": null,
   "id": "5ad99940",
   "metadata": {},
   "outputs": [],
   "source": []
  }
 ],
 "metadata": {
  "@webio": {
   "lastCommId": null,
   "lastKernelId": null
  },
  "kernelspec": {
   "display_name": "Python 3 (ipykernel)",
   "language": "python",
   "name": "python3"
  },
  "language_info": {
   "codemirror_mode": {
    "name": "ipython",
    "version": 3
   },
   "file_extension": ".py",
   "mimetype": "text/x-python",
   "name": "python",
   "nbconvert_exporter": "python",
   "pygments_lexer": "ipython3",
   "version": "3.9.12"
  }
 },
 "nbformat": 4,
 "nbformat_minor": 5
}
