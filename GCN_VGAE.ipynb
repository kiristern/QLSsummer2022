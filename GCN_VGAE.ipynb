{
 "cells": [
  {
   "cell_type": "markdown",
   "id": "33f056f2",
   "metadata": {},
   "source": [
    "`conda activate spaGAN`"
   ]
  },
  {
   "cell_type": "code",
   "execution_count": 2,
   "id": "c093ff09",
   "metadata": {},
   "outputs": [],
   "source": [
    "import numpy as np\n",
    "import json\n",
    "import scipy\n",
    "from scipy import sparse as sp\n",
    "from scipy.sparse import coo_matrix\n",
    "import pandas as pd\n",
    "import os\n",
    "import torch\n",
    "import pickle\n",
    "\n",
    "import matplotlib.pyplot as plt\n",
    "\n",
    "#from torch_geometric.loader import DataLoader\n",
    "from torch_geometric.nn import GCNConv\n",
    "#from torch_geometric.utils import train_test_split_edges\n",
    "from torch_geometric.nn import VGAE\n",
    "import torch_geometric.transforms as T\n",
    "from torch_geometric.data import Data"
   ]
  },
  {
   "cell_type": "code",
   "execution_count": 3,
   "id": "9ce24250",
   "metadata": {},
   "outputs": [],
   "source": [
    "path = '/Volumes/LaCie/school/combine_lab/SpaGE/SpaGE_Datasets/'\n",
    "\n",
    "gene_express = pd.read_csv(path+'ST_gene_expression.csv')\n",
    "gene_exp = gene_express.set_index('CellID', drop=True)\n",
    "gene_exp = gene_exp.drop(['Unnamed: 0','X', 'Y'], axis=1)\n",
    "\n",
    "adj = pd.read_pickle(path+'adj_mat_crs_220.pickle')"
   ]
  },
  {
   "cell_type": "code",
   "execution_count": 4,
   "id": "fe2f175d",
   "metadata": {},
   "outputs": [
    {
     "name": "stdout",
     "output_type": "stream",
     "text": [
      "(3405, 33)\n"
     ]
    },
    {
     "data": {
      "text/html": [
       "<div>\n",
       "<style scoped>\n",
       "    .dataframe tbody tr th:only-of-type {\n",
       "        vertical-align: middle;\n",
       "    }\n",
       "\n",
       "    .dataframe tbody tr th {\n",
       "        vertical-align: top;\n",
       "    }\n",
       "\n",
       "    .dataframe thead th {\n",
       "        text-align: right;\n",
       "    }\n",
       "</style>\n",
       "<table border=\"1\" class=\"dataframe\">\n",
       "  <thead>\n",
       "    <tr style=\"text-align: right;\">\n",
       "      <th></th>\n",
       "      <th>Gad2</th>\n",
       "      <th>Slc32a1</th>\n",
       "      <th>Crhbp</th>\n",
       "      <th>Cnr1</th>\n",
       "      <th>Vip</th>\n",
       "      <th>Cpne5</th>\n",
       "      <th>Pthlh</th>\n",
       "      <th>Crh</th>\n",
       "      <th>Tbr1</th>\n",
       "      <th>Lamp5</th>\n",
       "      <th>...</th>\n",
       "      <th>Ctps</th>\n",
       "      <th>Anln</th>\n",
       "      <th>Mrc1</th>\n",
       "      <th>Hexb</th>\n",
       "      <th>Ttr</th>\n",
       "      <th>Foxj1</th>\n",
       "      <th>Vtn</th>\n",
       "      <th>Flt1</th>\n",
       "      <th>Apln</th>\n",
       "      <th>Acta2</th>\n",
       "    </tr>\n",
       "    <tr>\n",
       "      <th>CellID</th>\n",
       "      <th></th>\n",
       "      <th></th>\n",
       "      <th></th>\n",
       "      <th></th>\n",
       "      <th></th>\n",
       "      <th></th>\n",
       "      <th></th>\n",
       "      <th></th>\n",
       "      <th></th>\n",
       "      <th></th>\n",
       "      <th></th>\n",
       "      <th></th>\n",
       "      <th></th>\n",
       "      <th></th>\n",
       "      <th></th>\n",
       "      <th></th>\n",
       "      <th></th>\n",
       "      <th></th>\n",
       "      <th></th>\n",
       "      <th></th>\n",
       "      <th></th>\n",
       "    </tr>\n",
       "  </thead>\n",
       "  <tbody>\n",
       "    <tr>\n",
       "      <th>778</th>\n",
       "      <td>1.621371</td>\n",
       "      <td>1.777401</td>\n",
       "      <td>-1.285498</td>\n",
       "      <td>0.169445</td>\n",
       "      <td>-0.417264</td>\n",
       "      <td>0.932325</td>\n",
       "      <td>-1.285498</td>\n",
       "      <td>-0.635124</td>\n",
       "      <td>1.368875</td>\n",
       "      <td>0.276102</td>\n",
       "      <td>...</td>\n",
       "      <td>0.817961</td>\n",
       "      <td>0.050672</td>\n",
       "      <td>-0.237032</td>\n",
       "      <td>0.876704</td>\n",
       "      <td>-0.237032</td>\n",
       "      <td>-0.417264</td>\n",
       "      <td>-0.635124</td>\n",
       "      <td>-1.285498</td>\n",
       "      <td>-0.237032</td>\n",
       "      <td>-0.417264</td>\n",
       "    </tr>\n",
       "    <tr>\n",
       "      <th>3642</th>\n",
       "      <td>2.723553</td>\n",
       "      <td>2.088070</td>\n",
       "      <td>0.162081</td>\n",
       "      <td>-0.609545</td>\n",
       "      <td>-0.353881</td>\n",
       "      <td>-0.609545</td>\n",
       "      <td>-0.609545</td>\n",
       "      <td>-0.150690</td>\n",
       "      <td>0.500071</td>\n",
       "      <td>-0.954585</td>\n",
       "      <td>...</td>\n",
       "      <td>0.162081</td>\n",
       "      <td>-0.150690</td>\n",
       "      <td>-0.609545</td>\n",
       "      <td>-0.150690</td>\n",
       "      <td>-0.609545</td>\n",
       "      <td>-0.609545</td>\n",
       "      <td>-0.353881</td>\n",
       "      <td>-0.954585</td>\n",
       "      <td>0.017943</td>\n",
       "      <td>-0.609545</td>\n",
       "    </tr>\n",
       "    <tr>\n",
       "      <th>769</th>\n",
       "      <td>2.459380</td>\n",
       "      <td>2.289477</td>\n",
       "      <td>1.116087</td>\n",
       "      <td>-0.466125</td>\n",
       "      <td>-0.148632</td>\n",
       "      <td>-0.951611</td>\n",
       "      <td>0.186618</td>\n",
       "      <td>-0.466125</td>\n",
       "      <td>1.044207</td>\n",
       "      <td>-0.951611</td>\n",
       "      <td>...</td>\n",
       "      <td>-0.022988</td>\n",
       "      <td>-0.148632</td>\n",
       "      <td>-0.293912</td>\n",
       "      <td>1.150048</td>\n",
       "      <td>-0.677581</td>\n",
       "      <td>-0.148632</td>\n",
       "      <td>-0.022988</td>\n",
       "      <td>-0.951611</td>\n",
       "      <td>-0.466125</td>\n",
       "      <td>-0.293912</td>\n",
       "    </tr>\n",
       "    <tr>\n",
       "      <th>5870</th>\n",
       "      <td>2.253989</td>\n",
       "      <td>1.549556</td>\n",
       "      <td>-0.197524</td>\n",
       "      <td>0.225092</td>\n",
       "      <td>-0.510714</td>\n",
       "      <td>-0.982660</td>\n",
       "      <td>0.135831</td>\n",
       "      <td>-0.982660</td>\n",
       "      <td>1.924713</td>\n",
       "      <td>-0.072863</td>\n",
       "      <td>...</td>\n",
       "      <td>0.225092</td>\n",
       "      <td>-0.982660</td>\n",
       "      <td>-0.072863</td>\n",
       "      <td>0.515976</td>\n",
       "      <td>-0.072863</td>\n",
       "      <td>-0.717495</td>\n",
       "      <td>-0.717495</td>\n",
       "      <td>-0.982660</td>\n",
       "      <td>-0.717495</td>\n",
       "      <td>-0.072863</td>\n",
       "    </tr>\n",
       "    <tr>\n",
       "      <th>5682</th>\n",
       "      <td>1.496840</td>\n",
       "      <td>2.316222</td>\n",
       "      <td>-0.944582</td>\n",
       "      <td>1.345124</td>\n",
       "      <td>0.013995</td>\n",
       "      <td>-0.944582</td>\n",
       "      <td>-0.944582</td>\n",
       "      <td>-0.944582</td>\n",
       "      <td>0.283120</td>\n",
       "      <td>3.576333</td>\n",
       "      <td>...</td>\n",
       "      <td>0.495107</td>\n",
       "      <td>-0.354909</td>\n",
       "      <td>0.013995</td>\n",
       "      <td>0.283120</td>\n",
       "      <td>-0.354909</td>\n",
       "      <td>-0.354909</td>\n",
       "      <td>-0.354909</td>\n",
       "      <td>-0.354909</td>\n",
       "      <td>0.283120</td>\n",
       "      <td>-0.944582</td>\n",
       "    </tr>\n",
       "    <tr>\n",
       "      <th>...</th>\n",
       "      <td>...</td>\n",
       "      <td>...</td>\n",
       "      <td>...</td>\n",
       "      <td>...</td>\n",
       "      <td>...</td>\n",
       "      <td>...</td>\n",
       "      <td>...</td>\n",
       "      <td>...</td>\n",
       "      <td>...</td>\n",
       "      <td>...</td>\n",
       "      <td>...</td>\n",
       "      <td>...</td>\n",
       "      <td>...</td>\n",
       "      <td>...</td>\n",
       "      <td>...</td>\n",
       "      <td>...</td>\n",
       "      <td>...</td>\n",
       "      <td>...</td>\n",
       "      <td>...</td>\n",
       "      <td>...</td>\n",
       "      <td>...</td>\n",
       "    </tr>\n",
       "    <tr>\n",
       "      <th>3635</th>\n",
       "      <td>0.309345</td>\n",
       "      <td>-0.843207</td>\n",
       "      <td>-0.843207</td>\n",
       "      <td>-0.843207</td>\n",
       "      <td>0.309345</td>\n",
       "      <td>0.309345</td>\n",
       "      <td>-0.843207</td>\n",
       "      <td>0.783172</td>\n",
       "      <td>2.051002</td>\n",
       "      <td>2.492857</td>\n",
       "      <td>...</td>\n",
       "      <td>1.309683</td>\n",
       "      <td>-0.843207</td>\n",
       "      <td>1.086314</td>\n",
       "      <td>-0.843207</td>\n",
       "      <td>-0.843207</td>\n",
       "      <td>-0.843207</td>\n",
       "      <td>-0.843207</td>\n",
       "      <td>-0.843207</td>\n",
       "      <td>0.309345</td>\n",
       "      <td>1.086314</td>\n",
       "    </tr>\n",
       "    <tr>\n",
       "      <th>3336</th>\n",
       "      <td>1.396286</td>\n",
       "      <td>-0.977202</td>\n",
       "      <td>-0.977202</td>\n",
       "      <td>1.229384</td>\n",
       "      <td>1.229384</td>\n",
       "      <td>-0.977202</td>\n",
       "      <td>-0.977202</td>\n",
       "      <td>-0.977202</td>\n",
       "      <td>0.901510</td>\n",
       "      <td>-0.977202</td>\n",
       "      <td>...</td>\n",
       "      <td>0.381686</td>\n",
       "      <td>0.759097</td>\n",
       "      <td>0.110551</td>\n",
       "      <td>-0.278649</td>\n",
       "      <td>-0.278649</td>\n",
       "      <td>-0.977202</td>\n",
       "      <td>1.024502</td>\n",
       "      <td>0.381686</td>\n",
       "      <td>-0.278649</td>\n",
       "      <td>2.598400</td>\n",
       "    </tr>\n",
       "    <tr>\n",
       "      <th>6462</th>\n",
       "      <td>0.232061</td>\n",
       "      <td>-0.423666</td>\n",
       "      <td>-1.342403</td>\n",
       "      <td>-0.423666</td>\n",
       "      <td>-0.156431</td>\n",
       "      <td>-1.342403</td>\n",
       "      <td>-0.423666</td>\n",
       "      <td>0.630742</td>\n",
       "      <td>2.287202</td>\n",
       "      <td>-1.342403</td>\n",
       "      <td>...</td>\n",
       "      <td>0.055889</td>\n",
       "      <td>0.232061</td>\n",
       "      <td>2.117512</td>\n",
       "      <td>-0.784520</td>\n",
       "      <td>0.830838</td>\n",
       "      <td>0.232061</td>\n",
       "      <td>-0.423666</td>\n",
       "      <td>-1.342403</td>\n",
       "      <td>0.232061</td>\n",
       "      <td>1.848433</td>\n",
       "    </tr>\n",
       "    <tr>\n",
       "      <th>260</th>\n",
       "      <td>0.632525</td>\n",
       "      <td>-1.041085</td>\n",
       "      <td>-1.041085</td>\n",
       "      <td>1.198118</td>\n",
       "      <td>0.632525</td>\n",
       "      <td>0.129437</td>\n",
       "      <td>-1.041085</td>\n",
       "      <td>0.129437</td>\n",
       "      <td>1.389190</td>\n",
       "      <td>2.796133</td>\n",
       "      <td>...</td>\n",
       "      <td>0.129437</td>\n",
       "      <td>0.129437</td>\n",
       "      <td>-1.041085</td>\n",
       "      <td>-1.041085</td>\n",
       "      <td>0.129437</td>\n",
       "      <td>-1.041085</td>\n",
       "      <td>-1.041085</td>\n",
       "      <td>-1.041085</td>\n",
       "      <td>0.632525</td>\n",
       "      <td>1.389190</td>\n",
       "    </tr>\n",
       "    <tr>\n",
       "      <th>6431</th>\n",
       "      <td>0.647033</td>\n",
       "      <td>-1.149300</td>\n",
       "      <td>-1.149300</td>\n",
       "      <td>-0.430347</td>\n",
       "      <td>-0.027124</td>\n",
       "      <td>-0.027124</td>\n",
       "      <td>-1.149300</td>\n",
       "      <td>-1.149300</td>\n",
       "      <td>1.969707</td>\n",
       "      <td>1.969707</td>\n",
       "      <td>...</td>\n",
       "      <td>0.647033</td>\n",
       "      <td>1.036189</td>\n",
       "      <td>0.471020</td>\n",
       "      <td>-0.027124</td>\n",
       "      <td>-1.149300</td>\n",
       "      <td>-1.149300</td>\n",
       "      <td>-0.027124</td>\n",
       "      <td>-1.149300</td>\n",
       "      <td>-1.149300</td>\n",
       "      <td>1.584745</td>\n",
       "    </tr>\n",
       "  </tbody>\n",
       "</table>\n",
       "<p>3405 rows × 33 columns</p>\n",
       "</div>"
      ],
      "text/plain": [
       "            Gad2   Slc32a1     Crhbp      Cnr1       Vip     Cpne5     Pthlh  \\\n",
       "CellID                                                                         \n",
       "778     1.621371  1.777401 -1.285498  0.169445 -0.417264  0.932325 -1.285498   \n",
       "3642    2.723553  2.088070  0.162081 -0.609545 -0.353881 -0.609545 -0.609545   \n",
       "769     2.459380  2.289477  1.116087 -0.466125 -0.148632 -0.951611  0.186618   \n",
       "5870    2.253989  1.549556 -0.197524  0.225092 -0.510714 -0.982660  0.135831   \n",
       "5682    1.496840  2.316222 -0.944582  1.345124  0.013995 -0.944582 -0.944582   \n",
       "...          ...       ...       ...       ...       ...       ...       ...   \n",
       "3635    0.309345 -0.843207 -0.843207 -0.843207  0.309345  0.309345 -0.843207   \n",
       "3336    1.396286 -0.977202 -0.977202  1.229384  1.229384 -0.977202 -0.977202   \n",
       "6462    0.232061 -0.423666 -1.342403 -0.423666 -0.156431 -1.342403 -0.423666   \n",
       "260     0.632525 -1.041085 -1.041085  1.198118  0.632525  0.129437 -1.041085   \n",
       "6431    0.647033 -1.149300 -1.149300 -0.430347 -0.027124 -0.027124 -1.149300   \n",
       "\n",
       "             Crh      Tbr1     Lamp5  ...      Ctps      Anln      Mrc1  \\\n",
       "CellID                                ...                                 \n",
       "778    -0.635124  1.368875  0.276102  ...  0.817961  0.050672 -0.237032   \n",
       "3642   -0.150690  0.500071 -0.954585  ...  0.162081 -0.150690 -0.609545   \n",
       "769    -0.466125  1.044207 -0.951611  ... -0.022988 -0.148632 -0.293912   \n",
       "5870   -0.982660  1.924713 -0.072863  ...  0.225092 -0.982660 -0.072863   \n",
       "5682   -0.944582  0.283120  3.576333  ...  0.495107 -0.354909  0.013995   \n",
       "...          ...       ...       ...  ...       ...       ...       ...   \n",
       "3635    0.783172  2.051002  2.492857  ...  1.309683 -0.843207  1.086314   \n",
       "3336   -0.977202  0.901510 -0.977202  ...  0.381686  0.759097  0.110551   \n",
       "6462    0.630742  2.287202 -1.342403  ...  0.055889  0.232061  2.117512   \n",
       "260     0.129437  1.389190  2.796133  ...  0.129437  0.129437 -1.041085   \n",
       "6431   -1.149300  1.969707  1.969707  ...  0.647033  1.036189  0.471020   \n",
       "\n",
       "            Hexb       Ttr     Foxj1       Vtn      Flt1      Apln     Acta2  \n",
       "CellID                                                                        \n",
       "778     0.876704 -0.237032 -0.417264 -0.635124 -1.285498 -0.237032 -0.417264  \n",
       "3642   -0.150690 -0.609545 -0.609545 -0.353881 -0.954585  0.017943 -0.609545  \n",
       "769     1.150048 -0.677581 -0.148632 -0.022988 -0.951611 -0.466125 -0.293912  \n",
       "5870    0.515976 -0.072863 -0.717495 -0.717495 -0.982660 -0.717495 -0.072863  \n",
       "5682    0.283120 -0.354909 -0.354909 -0.354909 -0.354909  0.283120 -0.944582  \n",
       "...          ...       ...       ...       ...       ...       ...       ...  \n",
       "3635   -0.843207 -0.843207 -0.843207 -0.843207 -0.843207  0.309345  1.086314  \n",
       "3336   -0.278649 -0.278649 -0.977202  1.024502  0.381686 -0.278649  2.598400  \n",
       "6462   -0.784520  0.830838  0.232061 -0.423666 -1.342403  0.232061  1.848433  \n",
       "260    -1.041085  0.129437 -1.041085 -1.041085 -1.041085  0.632525  1.389190  \n",
       "6431   -0.027124 -1.149300 -1.149300 -0.027124 -1.149300 -1.149300  1.584745  \n",
       "\n",
       "[3405 rows x 33 columns]"
      ]
     },
     "execution_count": 4,
     "metadata": {},
     "output_type": "execute_result"
    }
   ],
   "source": [
    "print(gene_exp.shape)\n",
    "gene_exp"
   ]
  },
  {
   "cell_type": "code",
   "execution_count": 5,
   "id": "f7a7bcd3",
   "metadata": {},
   "outputs": [
    {
     "data": {
      "text/plain": [
       "tensor([[0., 0., 0.,  ..., 0., 0., 0.],\n",
       "        [0., 0., 0.,  ..., 0., 0., 0.],\n",
       "        [0., 0., 0.,  ..., 0., 0., 0.],\n",
       "        ...,\n",
       "        [0., 0., 0.,  ..., 0., 0., 0.],\n",
       "        [0., 0., 0.,  ..., 0., 0., 0.],\n",
       "        [0., 0., 0.,  ..., 0., 0., 0.]])"
      ]
     },
     "execution_count": 5,
     "metadata": {},
     "output_type": "execute_result"
    }
   ],
   "source": [
    "edges = torch.tensor(adj.toarray()).float()\n",
    "edges"
   ]
  },
  {
   "cell_type": "code",
   "execution_count": 14,
   "id": "8bfb4413",
   "metadata": {},
   "outputs": [
    {
     "name": "stdout",
     "output_type": "stream",
     "text": [
      "tensor([1., 1., 1.,  ..., 1., 1., 1.])\n",
      "torch.Size([3824])\n"
     ]
    }
   ],
   "source": [
    "print(edges[np.where(edges > 0)]) # edge weights for each interaction\n",
    "print(edges[np.where(edges > 0)].shape) # number of connections"
   ]
  },
  {
   "cell_type": "markdown",
   "id": "bb687ec3",
   "metadata": {},
   "source": [
    "# Preprocess"
   ]
  },
  {
   "cell_type": "code",
   "execution_count": 6,
   "id": "a6b079cf",
   "metadata": {},
   "outputs": [],
   "source": [
    "def csr2tensor(csr):\n",
    "    \"\"\"convert compressed sparse row format to sparse tensor\"\"\"\n",
    "    coo = csr.tocoo()\n",
    "    values = coo.data\n",
    "    indices = np.vstack((coo.row, coo.col))\n",
    "    \n",
    "    i = torch.LongTensor(indices)\n",
    "    v = torch.FloatTensor(values)\n",
    "    shape = coo.shape\n",
    "    \n",
    "    tens = torch.sparse.FloatTensor(i, v, torch.Size(shape))#.to_dense()\n",
    "    coalesce_tensor = tens.coalesce()\n",
    "    \n",
    "    return coalesce_tensor.indices()"
   ]
  },
  {
   "cell_type": "code",
   "execution_count": 7,
   "id": "3169ee47",
   "metadata": {},
   "outputs": [
    {
     "data": {
      "text/plain": [
       "tensor([[   0,    1,    3,  ..., 3403, 3404, 3404],\n",
       "        [2258, 1633, 1608,  ...,  925, 2145, 2294]])"
      ]
     },
     "execution_count": 7,
     "metadata": {},
     "output_type": "execute_result"
    }
   ],
   "source": [
    "A = csr2tensor(adj)\n",
    "A"
   ]
  },
  {
   "cell_type": "code",
   "execution_count": 8,
   "id": "8e9305fb",
   "metadata": {},
   "outputs": [
    {
     "data": {
      "text/plain": [
       "tensor([[ 1.6214,  1.7774, -1.2855,  ..., -1.2855, -0.2370, -0.4173],\n",
       "        [ 2.7236,  2.0881,  0.1621,  ..., -0.9546,  0.0179, -0.6095],\n",
       "        [ 2.4594,  2.2895,  1.1161,  ..., -0.9516, -0.4661, -0.2939],\n",
       "        ...,\n",
       "        [ 0.2321, -0.4237, -1.3424,  ..., -1.3424,  0.2321,  1.8484],\n",
       "        [ 0.6325, -1.0411, -1.0411,  ..., -1.0411,  0.6325,  1.3892],\n",
       "        [ 0.6470, -1.1493, -1.1493,  ..., -1.1493, -1.1493,  1.5847]])"
      ]
     },
     "execution_count": 8,
     "metadata": {},
     "output_type": "execute_result"
    }
   ],
   "source": [
    "features = torch.tensor(gene_exp.values).float()\n",
    "features"
   ]
  },
  {
   "cell_type": "code",
   "execution_count": 9,
   "id": "ccf9762d",
   "metadata": {},
   "outputs": [
    {
     "data": {
      "text/plain": [
       "Data(x=[3405, 33], edge_index=[2, 3824], edge_attr=[3405, 3405], requires_grad=True)"
      ]
     },
     "execution_count": 9,
     "metadata": {},
     "output_type": "execute_result"
    }
   ],
   "source": [
    "data = Data(x=features, edge_index=A, edge_attr= edges, requires_grad=True)\n",
    "data"
   ]
  },
  {
   "cell_type": "code",
   "execution_count": 10,
   "id": "2ec92794",
   "metadata": {},
   "outputs": [
    {
     "name": "stdout",
     "output_type": "stream",
     "text": [
      "33 3405\n"
     ]
    }
   ],
   "source": [
    "print(data.num_features, data.num_nodes)"
   ]
  },
  {
   "cell_type": "code",
   "execution_count": 15,
   "id": "aa91c0c6",
   "metadata": {},
   "outputs": [
    {
     "name": "stdout",
     "output_type": "stream",
     "text": [
      "tensor([[ 1.6214,  1.7774, -1.2855,  ..., -1.2855, -0.2370, -0.4173],\n",
      "        [ 2.7236,  2.0881,  0.1621,  ..., -0.9546,  0.0179, -0.6095],\n",
      "        [ 2.4594,  2.2895,  1.1161,  ..., -0.9516, -0.4661, -0.2939],\n",
      "        ...,\n",
      "        [ 0.2321, -0.4237, -1.3424,  ..., -1.3424,  0.2321,  1.8484],\n",
      "        [ 0.6325, -1.0411, -1.0411,  ..., -1.0411,  0.6325,  1.3892],\n",
      "        [ 0.6470, -1.1493, -1.1493,  ..., -1.1493, -1.1493,  1.5847]])\n",
      "torch.Size([3405, 33])\n",
      "tensor([[   0,    1,    3,  ..., 3403, 3404, 3404],\n",
      "        [2258, 1633, 1608,  ...,  925, 2145, 2294]])\n",
      "torch.Size([2, 3824])\n"
     ]
    }
   ],
   "source": [
    "print(data.x)\n",
    "print(data.x.shape)\n",
    "print(data.edge_index)\n",
    "print(data.edge_index.shape)"
   ]
  },
  {
   "cell_type": "code",
   "execution_count": 16,
   "id": "789ebede",
   "metadata": {},
   "outputs": [
    {
     "name": "stdout",
     "output_type": "stream",
     "text": [
      "tensor([[   0,    0],\n",
      "        [   0,    1],\n",
      "        [   0,    2],\n",
      "        ...,\n",
      "        [3404,   30],\n",
      "        [3404,   31],\n",
      "        [3404,   32]])\n"
     ]
    }
   ],
   "source": [
    "print(torch.nonzero(data.x))\n",
    "# print(data.x[0, 6])"
   ]
  },
  {
   "cell_type": "code",
   "execution_count": 12,
   "id": "56f74aa3",
   "metadata": {
    "scrolled": true
   },
   "outputs": [],
   "source": [
    "# data = train_test_split_edges(data)\n",
    "# data"
   ]
  },
  {
   "cell_type": "code",
   "execution_count": 17,
   "id": "7fb65450",
   "metadata": {},
   "outputs": [],
   "source": [
    "transform = T.RandomLinkSplit(add_negative_train_samples=True)\n",
    "train_data, val_data, test_data = transform(data)"
   ]
  },
  {
   "cell_type": "code",
   "execution_count": 18,
   "id": "6278e2e2",
   "metadata": {},
   "outputs": [
    {
     "data": {
      "text/plain": [
       "Data(x=[3405, 33], edge_index=[2, 2678], edge_attr=[3405, 3405], requires_grad=True, edge_label=[5356], edge_label_index=[2, 5356])"
      ]
     },
     "execution_count": 18,
     "metadata": {},
     "output_type": "execute_result"
    }
   ],
   "source": [
    "train_data"
   ]
  },
  {
   "cell_type": "code",
   "execution_count": 19,
   "id": "61537bec",
   "metadata": {},
   "outputs": [
    {
     "data": {
      "text/plain": [
       "Data(x=[3405, 33], edge_index=[2, 3060], edge_attr=[3405, 3405], requires_grad=True, edge_label=[1528], edge_label_index=[2, 1528])"
      ]
     },
     "execution_count": 19,
     "metadata": {},
     "output_type": "execute_result"
    }
   ],
   "source": [
    "test_data"
   ]
  },
  {
   "cell_type": "code",
   "execution_count": null,
   "id": "cbf4ef41",
   "metadata": {},
   "outputs": [],
   "source": []
  },
  {
   "cell_type": "code",
   "execution_count": 20,
   "id": "0e26183f",
   "metadata": {},
   "outputs": [
    {
     "ename": "AttributeError",
     "evalue": "'GlobalStorage' object has no attribute 'pos_edge_label_index'",
     "output_type": "error",
     "traceback": [
      "\u001b[0;31m---------------------------------------------------------------------------\u001b[0m",
      "\u001b[0;31mKeyError\u001b[0m                                  Traceback (most recent call last)",
      "File \u001b[0;32m~/miniforge3/envs/spaGAN/lib/python3.8/site-packages/torch_geometric/data/storage.py:50\u001b[0m, in \u001b[0;36mBaseStorage.__getattr__\u001b[0;34m(self, key)\u001b[0m\n\u001b[1;32m     49\u001b[0m \u001b[38;5;28;01mtry\u001b[39;00m:\n\u001b[0;32m---> 50\u001b[0m     \u001b[38;5;28;01mreturn\u001b[39;00m \u001b[38;5;28;43mself\u001b[39;49m\u001b[43m[\u001b[49m\u001b[43mkey\u001b[49m\u001b[43m]\u001b[49m\n\u001b[1;32m     51\u001b[0m \u001b[38;5;28;01mexcept\u001b[39;00m \u001b[38;5;167;01mKeyError\u001b[39;00m:\n",
      "File \u001b[0;32m~/miniforge3/envs/spaGAN/lib/python3.8/site-packages/torch_geometric/data/storage.py:70\u001b[0m, in \u001b[0;36mBaseStorage.__getitem__\u001b[0;34m(self, key)\u001b[0m\n\u001b[1;32m     69\u001b[0m \u001b[38;5;28;01mdef\u001b[39;00m \u001b[38;5;21m__getitem__\u001b[39m(\u001b[38;5;28mself\u001b[39m, key: \u001b[38;5;28mstr\u001b[39m) \u001b[38;5;241m-\u001b[39m\u001b[38;5;241m>\u001b[39m Any:\n\u001b[0;32m---> 70\u001b[0m     \u001b[38;5;28;01mreturn\u001b[39;00m \u001b[38;5;28;43mself\u001b[39;49m\u001b[38;5;241;43m.\u001b[39;49m\u001b[43m_mapping\u001b[49m\u001b[43m[\u001b[49m\u001b[43mkey\u001b[49m\u001b[43m]\u001b[49m\n",
      "\u001b[0;31mKeyError\u001b[0m: 'pos_edge_label_index'",
      "\nDuring handling of the above exception, another exception occurred:\n",
      "\u001b[0;31mAttributeError\u001b[0m                            Traceback (most recent call last)",
      "Input \u001b[0;32mIn [20]\u001b[0m, in \u001b[0;36m<cell line: 1>\u001b[0;34m()\u001b[0m\n\u001b[0;32m----> 1\u001b[0m \u001b[43mtrain_data\u001b[49m\u001b[38;5;241;43m.\u001b[39;49m\u001b[43mpos_edge_label_index\u001b[49m\n",
      "File \u001b[0;32m~/miniforge3/envs/spaGAN/lib/python3.8/site-packages/torch_geometric/data/data.py:362\u001b[0m, in \u001b[0;36mData.__getattr__\u001b[0;34m(self, key)\u001b[0m\n\u001b[1;32m    356\u001b[0m \u001b[38;5;28;01mif\u001b[39;00m \u001b[38;5;124m'\u001b[39m\u001b[38;5;124m_store\u001b[39m\u001b[38;5;124m'\u001b[39m \u001b[38;5;129;01mnot\u001b[39;00m \u001b[38;5;129;01min\u001b[39;00m \u001b[38;5;28mself\u001b[39m\u001b[38;5;241m.\u001b[39m\u001b[38;5;18m__dict__\u001b[39m:\n\u001b[1;32m    357\u001b[0m     \u001b[38;5;28;01mraise\u001b[39;00m \u001b[38;5;167;01mRuntimeError\u001b[39;00m(\n\u001b[1;32m    358\u001b[0m         \u001b[38;5;124m\"\u001b[39m\u001b[38;5;124mThe \u001b[39m\u001b[38;5;124m'\u001b[39m\u001b[38;5;124mdata\u001b[39m\u001b[38;5;124m'\u001b[39m\u001b[38;5;124m object was created by an older version of PyG. \u001b[39m\u001b[38;5;124m\"\u001b[39m\n\u001b[1;32m    359\u001b[0m         \u001b[38;5;124m\"\u001b[39m\u001b[38;5;124mIf this error occurred while loading an already existing \u001b[39m\u001b[38;5;124m\"\u001b[39m\n\u001b[1;32m    360\u001b[0m         \u001b[38;5;124m\"\u001b[39m\u001b[38;5;124mdataset, remove the \u001b[39m\u001b[38;5;124m'\u001b[39m\u001b[38;5;124mprocessed/\u001b[39m\u001b[38;5;124m'\u001b[39m\u001b[38;5;124m directory in the dataset\u001b[39m\u001b[38;5;124m'\u001b[39m\u001b[38;5;124ms \u001b[39m\u001b[38;5;124m\"\u001b[39m\n\u001b[1;32m    361\u001b[0m         \u001b[38;5;124m\"\u001b[39m\u001b[38;5;124mroot folder and try again.\u001b[39m\u001b[38;5;124m\"\u001b[39m)\n\u001b[0;32m--> 362\u001b[0m \u001b[38;5;28;01mreturn\u001b[39;00m \u001b[38;5;28;43mgetattr\u001b[39;49m\u001b[43m(\u001b[49m\u001b[38;5;28;43mself\u001b[39;49m\u001b[38;5;241;43m.\u001b[39;49m\u001b[43m_store\u001b[49m\u001b[43m,\u001b[49m\u001b[43m \u001b[49m\u001b[43mkey\u001b[49m\u001b[43m)\u001b[49m\n",
      "File \u001b[0;32m~/miniforge3/envs/spaGAN/lib/python3.8/site-packages/torch_geometric/data/storage.py:52\u001b[0m, in \u001b[0;36mBaseStorage.__getattr__\u001b[0;34m(self, key)\u001b[0m\n\u001b[1;32m     50\u001b[0m     \u001b[38;5;28;01mreturn\u001b[39;00m \u001b[38;5;28mself\u001b[39m[key]\n\u001b[1;32m     51\u001b[0m \u001b[38;5;28;01mexcept\u001b[39;00m \u001b[38;5;167;01mKeyError\u001b[39;00m:\n\u001b[0;32m---> 52\u001b[0m     \u001b[38;5;28;01mraise\u001b[39;00m \u001b[38;5;167;01mAttributeError\u001b[39;00m(\n\u001b[1;32m     53\u001b[0m         \u001b[38;5;124mf\u001b[39m\u001b[38;5;124m\"\u001b[39m\u001b[38;5;124m'\u001b[39m\u001b[38;5;132;01m{\u001b[39;00m\u001b[38;5;28mself\u001b[39m\u001b[38;5;241m.\u001b[39m\u001b[38;5;18m__class__\u001b[39m\u001b[38;5;241m.\u001b[39m\u001b[38;5;18m__name__\u001b[39m\u001b[38;5;132;01m}\u001b[39;00m\u001b[38;5;124m'\u001b[39m\u001b[38;5;124m object has no attribute \u001b[39m\u001b[38;5;124m'\u001b[39m\u001b[38;5;132;01m{\u001b[39;00mkey\u001b[38;5;132;01m}\u001b[39;00m\u001b[38;5;124m'\u001b[39m\u001b[38;5;124m\"\u001b[39m)\n",
      "\u001b[0;31mAttributeError\u001b[0m: 'GlobalStorage' object has no attribute 'pos_edge_label_index'"
     ]
    }
   ],
   "source": [
    "train_data.pos_edge_label_index"
   ]
  },
  {
   "cell_type": "code",
   "execution_count": null,
   "id": "28ddab18",
   "metadata": {},
   "outputs": [],
   "source": [
    "train_data.edge_index == train_data.pos_edge_label_index"
   ]
  },
  {
   "cell_type": "code",
   "execution_count": null,
   "id": "d5f3a26f",
   "metadata": {},
   "outputs": [],
   "source": [
    "test_data"
   ]
  },
  {
   "cell_type": "code",
   "execution_count": 21,
   "id": "f7f84e03",
   "metadata": {},
   "outputs": [],
   "source": [
    "class VGCNEncoder(torch.nn.Module):\n",
    "    def __init__(self, in_channels, out_channels):\n",
    "        super(VGCNEncoder, self).__init__()\n",
    "        \"\"\"\n",
    "        First GCN layer generates a lower-dimensional ft matrix;\n",
    "        Second GCN layer generates mu and log sigma sq.\n",
    "        \"\"\"\n",
    "        self.conv1 = GCNConv(in_channels, 2 * out_channels, cached=True) # cached only for transductive learning\n",
    "        self.conv_mu = GCNConv(2 * out_channels, out_channels, cached=True)\n",
    "        self.conv_logvar = GCNConv(2 * out_channels, out_channels, cached=True)\n",
    "\n",
    "    def forward(self, x, edge_index):\n",
    "        x = self.conv1(x, edge_index).relu()\n",
    "        return self.conv_mu(x, edge_index), self.conv_logvar(x, edge_index)"
   ]
  },
  {
   "cell_type": "code",
   "execution_count": 22,
   "id": "67cc607e",
   "metadata": {},
   "outputs": [
    {
     "name": "stdout",
     "output_type": "stream",
     "text": [
      "33\n"
     ]
    }
   ],
   "source": [
    "out_channels = 50 # number of topics/clusters\n",
    "num_features = data.num_features\n",
    "epochs = 50\n",
    "print(num_features)"
   ]
  },
  {
   "cell_type": "code",
   "execution_count": 24,
   "id": "715e7dc6",
   "metadata": {},
   "outputs": [],
   "source": [
    "model = VGAE(VGCNEncoder(num_features, out_channels))  \n",
    "\n",
    "device = torch.device('cuda' if torch.cuda.is_available() else 'cpu')\n",
    "model = model.to(device)\n",
    "x = data.x.to(device)\n",
    "# train_data.pos_edge_label_index = train_data.pos_edge_label_index.to(device)\n",
    "\n",
    "optimizer = torch.optim.Adam(model.parameters(), lr=0.01)"
   ]
  },
  {
   "cell_type": "code",
   "execution_count": null,
   "id": "5c83b486",
   "metadata": {},
   "outputs": [],
   "source": []
  },
  {
   "cell_type": "code",
   "execution_count": null,
   "id": "58199d8d",
   "metadata": {},
   "outputs": [],
   "source": []
  },
  {
   "cell_type": "code",
   "execution_count": 25,
   "id": "bf7bc54a",
   "metadata": {},
   "outputs": [
    {
     "ename": "ModuleNotFoundError",
     "evalue": "No module named 'torchviz'",
     "output_type": "error",
     "traceback": [
      "\u001b[0;31m---------------------------------------------------------------------------\u001b[0m",
      "\u001b[0;31mModuleNotFoundError\u001b[0m                       Traceback (most recent call last)",
      "Input \u001b[0;32mIn [25]\u001b[0m, in \u001b[0;36m<cell line: 1>\u001b[0;34m()\u001b[0m\n\u001b[0;32m----> 1\u001b[0m \u001b[38;5;28;01mfrom\u001b[39;00m \u001b[38;5;21;01mtorchviz\u001b[39;00m \u001b[38;5;28;01mimport\u001b[39;00m make_dot\n",
      "\u001b[0;31mModuleNotFoundError\u001b[0m: No module named 'torchviz'"
     ]
    }
   ],
   "source": [
    "from torchviz import make_dot"
   ]
  },
  {
   "cell_type": "code",
   "execution_count": 26,
   "id": "dde2071d",
   "metadata": {},
   "outputs": [
    {
     "name": "stdout",
     "output_type": "stream",
     "text": [
      "VGAE(\n",
      "  (encoder): VGCNEncoder(\n",
      "    (conv1): GCNConv(33, 100)\n",
      "    (conv_mu): GCNConv(100, 50)\n",
      "    (conv_logvar): GCNConv(100, 50)\n",
      "  )\n",
      "  (decoder): InnerProductDecoder()\n",
      ")\n"
     ]
    }
   ],
   "source": [
    "print(model)"
   ]
  },
  {
   "cell_type": "code",
   "execution_count": null,
   "id": "b8eb14df",
   "metadata": {},
   "outputs": [],
   "source": [
    "# next(iter(data.x))"
   ]
  },
  {
   "cell_type": "code",
   "execution_count": null,
   "id": "22cebf35",
   "metadata": {},
   "outputs": [],
   "source": [
    "# next(iter(data.x)).shape"
   ]
  },
  {
   "cell_type": "code",
   "execution_count": 27,
   "id": "6a5743a0",
   "metadata": {},
   "outputs": [],
   "source": [
    "model_test = VGCNEncoder(num_features, out_channels)"
   ]
  },
  {
   "cell_type": "code",
   "execution_count": null,
   "id": "468b5ba6",
   "metadata": {},
   "outputs": [],
   "source": [
    "# # need to have dummy input that can pass thru the model's forward() method.\n",
    "# batch = next(iter(data.x)).requires_grad_(True)\n",
    "# batch"
   ]
  },
  {
   "cell_type": "code",
   "execution_count": 28,
   "id": "411ad5c3",
   "metadata": {},
   "outputs": [
    {
     "data": {
      "text/plain": [
       "torch.Size([3405, 33])"
      ]
     },
     "execution_count": 28,
     "metadata": {},
     "output_type": "execute_result"
    }
   ],
   "source": [
    "train_data.x.shape"
   ]
  },
  {
   "cell_type": "code",
   "execution_count": 29,
   "id": "18c4b0ee",
   "metadata": {},
   "outputs": [
    {
     "data": {
      "text/plain": [
       "torch.Size([2, 2678])"
      ]
     },
     "execution_count": 29,
     "metadata": {},
     "output_type": "execute_result"
    }
   ],
   "source": [
    "train_data.edge_index.shape"
   ]
  },
  {
   "cell_type": "code",
   "execution_count": 30,
   "id": "86afafc7",
   "metadata": {},
   "outputs": [
    {
     "data": {
      "text/plain": [
       "(tensor([[ 0.5635,  0.1460, -0.5364,  ..., -0.0182, -0.0111, -0.9323],\n",
       "         [-0.4392, -0.5678, -1.6455,  ..., -0.4338,  0.0179, -0.9101],\n",
       "         [ 0.3348, -0.2295, -0.7337,  ..., -0.3177,  0.3427, -0.4180],\n",
       "         ...,\n",
       "         [ 0.4770,  0.9767, -0.2441,  ...,  0.8915, -0.3157, -0.3199],\n",
       "         [ 0.7011, -0.5820, -1.0935,  ...,  0.0742, -0.3640, -1.0829],\n",
       "         [ 0.8474, -0.0194, -1.2681,  ...,  0.2735, -0.4764, -0.4694]],\n",
       "        grad_fn=<AddBackward0>),\n",
       " tensor([[-0.1409, -0.2140, -0.9122,  ...,  0.6018,  0.6206,  0.1975],\n",
       "         [-0.4021, -0.8107, -0.6132,  ..., -0.2794,  0.3106, -0.6400],\n",
       "         [ 0.2075, -1.2223, -1.0550,  ...,  0.2082,  0.1204, -0.5063],\n",
       "         ...,\n",
       "         [-0.1805,  0.0349, -1.3207,  ...,  0.7696,  0.0980,  0.3758],\n",
       "         [-0.6132, -0.0652, -0.7839,  ...,  0.1797,  0.2977, -0.2269],\n",
       "         [-0.1368,  0.5108, -1.1784,  ...,  0.5517,  0.7310, -0.1733]],\n",
       "        grad_fn=<AddBackward0>))"
      ]
     },
     "execution_count": 30,
     "metadata": {},
     "output_type": "execute_result"
    }
   ],
   "source": [
    "# return mean and std\n",
    "yhat = model_test.forward(train_data.x, train_data.edge_index) \n",
    "yhat"
   ]
  },
  {
   "cell_type": "code",
   "execution_count": 31,
   "id": "535a6875",
   "metadata": {},
   "outputs": [
    {
     "data": {
      "text/plain": [
       "torch.Size([3405, 50])"
      ]
     },
     "execution_count": 31,
     "metadata": {},
     "output_type": "execute_result"
    }
   ],
   "source": [
    "yhat[0].shape"
   ]
  },
  {
   "cell_type": "code",
   "execution_count": 32,
   "id": "804676d9",
   "metadata": {},
   "outputs": [
    {
     "ename": "NameError",
     "evalue": "name 'make_dot' is not defined",
     "output_type": "error",
     "traceback": [
      "\u001b[0;31m---------------------------------------------------------------------------\u001b[0m",
      "\u001b[0;31mNameError\u001b[0m                                 Traceback (most recent call last)",
      "Input \u001b[0;32mIn [32]\u001b[0m, in \u001b[0;36m<cell line: 1>\u001b[0;34m()\u001b[0m\n\u001b[0;32m----> 1\u001b[0m \u001b[43mmake_dot\u001b[49m(yhat, params\u001b[38;5;241m=\u001b[39m\u001b[38;5;28mdict\u001b[39m(model_test\u001b[38;5;241m.\u001b[39mnamed_parameters()))\n",
      "\u001b[0;31mNameError\u001b[0m: name 'make_dot' is not defined"
     ]
    }
   ],
   "source": [
    "make_dot(yhat, params=dict(model_test.named_parameters()))"
   ]
  },
  {
   "cell_type": "code",
   "execution_count": null,
   "id": "b4231cec",
   "metadata": {
    "scrolled": false
   },
   "outputs": [],
   "source": [
    "# make_dot(yhat, params=dict(model_test.named_parameters()), show_attrs=True, show_saved=True).render(\"model_torchviz\", format=\"png\")"
   ]
  },
  {
   "cell_type": "code",
   "execution_count": null,
   "id": "03c39e29",
   "metadata": {},
   "outputs": [],
   "source": []
  },
  {
   "cell_type": "code",
   "execution_count": null,
   "id": "29e130ed",
   "metadata": {},
   "outputs": [],
   "source": []
  },
  {
   "cell_type": "code",
   "execution_count": null,
   "id": "8dfa4620",
   "metadata": {},
   "outputs": [],
   "source": []
  },
  {
   "cell_type": "code",
   "execution_count": null,
   "id": "02914791",
   "metadata": {},
   "outputs": [],
   "source": [
    "def train():\n",
    "    model.train()\n",
    "    optimizer.zero_grad()\n",
    "    z = model.encode(x, train_data.pos_edge_label_index)\n",
    "    \"\"\"\n",
    "    Runs the encoder and computes node-wise latent variables\n",
    "    \"\"\"\n",
    "    loss = model.recon_loss(z, train_data.pos_edge_label_index, train_data.neg_edge_label_index)\n",
    "    \"\"\"\n",
    "    Given __latent variables :obj:`z`__, computes the binary cross\n",
    "    entropy loss for __positive edges :obj:`pos_edge_index`__ and \n",
    "    negative sampled edges.\n",
    "        Args:\n",
    "            z (Tensor): The latent space :math:`\\mathbf{Z}`.\n",
    "            pos_edge_index (LongTensor): The positive edges to train against.\n",
    "            neg_edge_index (LongTensor, optional): The negative edges to train\n",
    "                against. If not given, uses negative sampling to calculate\n",
    "                negative edges. (default: :obj:`None`)\n",
    "    BCE: what is the probability of the latent vars to be a positive or negative edge\n",
    "    \"\"\"\n",
    "    \n",
    "    #loss = loss + (1 / data.num_nodes) * model.kl_loss()\n",
    "    \n",
    "    \"\"\"\n",
    "    kl_loss(self, mu=None, logstd=None):\n",
    "        Computes the KL loss, either for the passed arguments :obj:`mu`\n",
    "        and :obj:`logstd`, or based on latent variables from last encoding.\n",
    "        Args:\n",
    "            mu (Tensor, optional): The latent space for :math:`\\mu`. If set to\n",
    "                :obj:`None`, uses the last computation of :math:`mu`.\n",
    "                (default: :obj:`None`)\n",
    "            logstd (Tensor, optional): The latent space for\n",
    "                :math:`\\log\\sigma`.  If set to :obj:`None`, uses the last\n",
    "                computation of :math:`\\log\\sigma^2`.(default: :obj:`None`)\n",
    "    \"\"\"\n",
    "    loss.backward()\n",
    "    optimizer.step()\n",
    "    return float(loss)\n"
   ]
  },
  {
   "cell_type": "markdown",
   "id": "8cf699a3",
   "metadata": {},
   "source": [
    "[reasoning behind loss + ...](https://github.com/tkipf/gae/issues/20) : cross-entropy loss applies to N^2 terms, i.e. all potential edges, while the KL term only applies to N terms, i.e. all nodes. This normalization makes sure they have a comparable scale.\n",
    "\n",
    "However, should even get reasonable results with beta=0 (i.e. no KL\n",
    "term at all), as the model is typically sufficiently regularized via\n",
    "negative sampling (i.e. we choose random negative links)."
   ]
  },
  {
   "cell_type": "code",
   "execution_count": null,
   "id": "d67d4165",
   "metadata": {},
   "outputs": [],
   "source": [
    "def test(pos_edge_label_index, neg_edge_label_index):\n",
    "    \"\"\"\n",
    "    Given \n",
    "        latent variables :obj:`z`, \n",
    "        positive edges:obj:`pos_edge_index`; and \n",
    "        negative edges :obj:`neg_edge_index`,\n",
    "    computes area under the ROC curve (AUC) and average precision (AP) scores and\n",
    "    return latent variables, z.\n",
    "    Args:\n",
    "        z (Tensor): The latent space :math:`\\mathbf{Z}`.\n",
    "        pos_edge_index (LongTensor): The positive edges to evaluate against.\n",
    "        neg_edge_index (LongTensor): The negative edges to evaluate against.\n",
    "    \"\"\"\n",
    "    model.eval()\n",
    "    with torch.no_grad():\n",
    "        z = model.encode(x, train_data.pos_edge_label_index)\n",
    "        results = model.test(z, pos_edge_label_index, neg_edge_label_index)\n",
    "    return results[0], results[1], z #return area under curve, avg precision, and latent embeddings Z"
   ]
  },
  {
   "cell_type": "code",
   "execution_count": null,
   "id": "ac58eabe",
   "metadata": {},
   "outputs": [],
   "source": [
    "test_data.pos_edge_label_index"
   ]
  },
  {
   "cell_type": "code",
   "execution_count": null,
   "id": "2deff6b0",
   "metadata": {},
   "outputs": [],
   "source": [
    "Z = []\n",
    "AUC = []\n",
    "AP = []\n",
    "for epoch in range(1, epochs + 1):\n",
    "    loss = train()\n",
    "    auc, ap, z = test(test_data.pos_edge_label_index, test_data.neg_edge_label_index)\n",
    "    Z.append(z)\n",
    "    AUC.append(auc)\n",
    "    AP.append(ap)\n",
    "    print('Epoch: {:03d}, AUC: {:.4f}, AP: {:.4f}'.format(epoch, auc, ap))\n",
    "    print(z)"
   ]
  },
  {
   "cell_type": "code",
   "execution_count": null,
   "id": "13d52974",
   "metadata": {},
   "outputs": [],
   "source": [
    "fig, ax = plt.subplots(1,2, figsize = (15, 5))\n",
    "ax[0].plot(AP)\n",
    "ax[0].set_title('Avg precision')\n",
    "ax[1].plot(AUC)\n",
    "ax[1].set_title('Area under curve') "
   ]
  },
  {
   "cell_type": "markdown",
   "id": "4e7d4b46",
   "metadata": {},
   "source": [
    "Average Precision is a single number used to summarise a [Precision-Recall curve](https://jonathan-hui.medium.com/map-mean-average-precision-for-object-detection-45c121a31173). The AP is finding the area under the precision-recall curve\n",
    "\n",
    "[AUC](https://towardsdatascience.com/understanding-auc-roc-curve-68b2303cc9c5) tells how much the model is capable of distinguishing between classes. Higher the AUC, the better the model is at predicting 0 classes as 0 and 1 classes as 1. By analogy, the Higher the AUC, the better the model is at distinguishing between patients with the disease and no disease."
   ]
  },
  {
   "cell_type": "code",
   "execution_count": null,
   "id": "31f0fa06",
   "metadata": {},
   "outputs": [],
   "source": []
  },
  {
   "cell_type": "code",
   "execution_count": null,
   "id": "df74b02f",
   "metadata": {},
   "outputs": [],
   "source": []
  },
  {
   "cell_type": "code",
   "execution_count": null,
   "id": "8801b92d",
   "metadata": {},
   "outputs": [],
   "source": [
    "max_ap = max(AP)\n",
    "print('Maximum value:', max_ap, \"At index:\", AP.index(max_ap))\n",
    "max_auc = max(AUC)\n",
    "print('Maximum value:', max_auc, \"At index:\", AUC.index(max_auc))"
   ]
  },
  {
   "cell_type": "code",
   "execution_count": null,
   "id": "0b24c140",
   "metadata": {},
   "outputs": [],
   "source": [
    "num = 200\n",
    "print('AUC: {:.4f}, AP: {:.4f}'.format(AUC[num], AP[num]))"
   ]
  },
  {
   "cell_type": "code",
   "execution_count": null,
   "id": "75217977",
   "metadata": {},
   "outputs": [],
   "source": [
    "num = 250\n",
    "print('AUC: {:.4f}, AP: {:.4f}'.format(AUC[num], AP[num]))"
   ]
  }
 ],
 "metadata": {
  "@webio": {
   "lastCommId": null,
   "lastKernelId": null
  },
  "kernelspec": {
   "display_name": "Python 3 (ipykernel)",
   "language": "python",
   "name": "python3"
  },
  "language_info": {
   "codemirror_mode": {
    "name": "ipython",
    "version": 3
   },
   "file_extension": ".py",
   "mimetype": "text/x-python",
   "name": "python",
   "nbconvert_exporter": "python",
   "pygments_lexer": "ipython3",
   "version": "3.8.13"
  }
 },
 "nbformat": 4,
 "nbformat_minor": 5
}
