{
 "cells": [
  {
   "cell_type": "code",
   "execution_count": 1,
   "id": "198d258a",
   "metadata": {},
   "outputs": [],
   "source": [
    "import numpy as np"
   ]
  },
  {
   "cell_type": "markdown",
   "id": "263b846a",
   "metadata": {},
   "source": [
    "Find neighbours, modified from: [code](https://github.com/MaxRudometkin/2d_array_neighbours/blob/2c88bee8078b388bd12802c4f62bc2062c84abb9/array_neighbours.py#L85) found off [here](https://pyquestions.com/find-neighbors-in-a-matrix)"
   ]
  },
  {
   "cell_type": "code",
   "execution_count": null,
   "id": "d2630789",
   "metadata": {},
   "outputs": [],
   "source": [
    "import time\n",
    "\n",
    "def find_all_neighbours(adj_mat):\n",
    "    \"\"\"\n",
    "    This method takes 2d array and return list of all elements\n",
    "    with all neighbours\n",
    "    :param arr: 2d array\n",
    "    :return: list of array elements with all neighbours\n",
    "    \"\"\"    \n",
    "    neighbors = []\n",
    "    arr = np.asarray(adj_mat) # change matrix to array\n",
    "    for i in range(len(arr)):\n",
    "        for j, value in enumerate(arr[i]):\n",
    "            if i == 0 or i == len(arr) - 1 or j == 0 or j == len(arr[i]) - 1:\n",
    "                # corners\n",
    "                new_neighbors = []\n",
    "                if i != 0 and j != 0:\n",
    "                    new_neighbors.append(arr[i - 1][j - 1])  # left top neighbour\n",
    "                if i != 0 :\n",
    "                    new_neighbors.append(arr[i - 1][j])  # top neighbor\n",
    "                if i != 0 and j != len(arr[i]) - 1 :\n",
    "                    new_neighbors.append(arr[i - 1][j + 1])  # right top neighbour\n",
    "                if j != len(arr[i]) - 1 :\n",
    "                    new_neighbors.append(arr[i][j + 1])  # right neighbor\n",
    "                if i != len(arr) - 1 and j != len(arr[i]) - 1 :\n",
    "                    new_neighbors.append(arr[i + 1][j + 1])  # right bottom neighbour\n",
    "                if i != len(arr) - 1 :\n",
    "                    new_neighbors.append(arr[i + 1][j])  # bottom neighbor\n",
    "                if i != len(arr) - 1 and j != 0:\n",
    "                    new_neighbors.append(arr[i + 1][j - 1])  # left bottom neighbour\n",
    "                if j != 0:\n",
    "                    new_neighbors.append(arr[i][j - 1])  # left neighbor\n",
    "            else:\n",
    "                # add neighbors\n",
    "                new_neighbors = [\n",
    "                    arr[i - 1][j - 1],  # left top neighbour\n",
    "                    arr[i - 1][j],  # top neighbor\n",
    "                    arr[i - 1][j + 1],  # right top neighbour\n",
    "                    arr[i][j + 1],  # right neighbor\n",
    "                    arr[i + 1][j + 1],  # right bottom neighbour\n",
    "                    arr[i + 1][j],  # bottom neighbor\n",
    "                    arr[i + 1][j - 1],  # left bottom neighbour\n",
    "                    arr[i][j - 1]  # left neighbor\n",
    "                ]\n",
    "\n",
    "            neighbors.append({\n",
    "                \"index\": i * len(arr[i]) + j,\n",
    "                \"value\": value,\n",
    "                \"neighbors\": new_neighbors})\n",
    "\n",
    "    return neighbors\n",
    "\n",
    "def get_neighbours(all_neighbours):\n",
    "    starttime = time.time()\n",
    "    print('This takes awhile')\n",
    "    \n",
    "    neighbours = find_all_neighbours(all_neighbours)\n",
    "    \n",
    "    endtime = time.time()\n",
    "    print('time to get all neighbours: ', endtime - starttime)\n",
    "    \n",
    "    return list(filter(lambda x: x['value'] != 0, neighbours)) # only return for when value != 0 (ie. cell is present)\n",
    "\n",
    "def get_mean_cell_neighborhood(neighbours):\n",
    "    starttime = time.time()\n",
    "    \n",
    "    neighbs = get_neighbours(neighbours)\n",
    "    \n",
    "    sum_neighb_cells = []\n",
    "    for i in neighbs:\n",
    "        for key in i:\n",
    "            if key == 'neighbors':\n",
    "                sum_neighb_cells.append(sum(i[key]))\n",
    "                \n",
    "    endtime = time.time()\n",
    "    print('time to get avg cell neighbourhood: ', endtime - starttime)\n",
    "    return sum(sum_neighb_cells)/len(sum_neighb_cells)"
   ]
  },
  {
   "cell_type": "code",
   "execution_count": null,
   "id": "cbe1a83c",
   "metadata": {},
   "outputs": [],
   "source": [
    "arr = [[1, 0, 0, 0],\n",
    "      [0, 1, 0, 1],\n",
    "      [0,0,0,0],\n",
    "      [1,1,0,1]]"
   ]
  },
  {
   "cell_type": "code",
   "execution_count": null,
   "id": "4298c654",
   "metadata": {},
   "outputs": [],
   "source": [
    "get_neighbours(arr)"
   ]
  },
  {
   "cell_type": "code",
   "execution_count": null,
   "id": "f365be8a",
   "metadata": {},
   "outputs": [],
   "source": [
    "find_all_neighbours(arr)"
   ]
  },
  {
   "cell_type": "code",
   "execution_count": 63,
   "id": "b572862f",
   "metadata": {},
   "outputs": [
    {
     "data": {
      "text/plain": [
       "matrix([[1., 2., 0., 0.],\n",
       "        [0., 1., 0., 0.],\n",
       "        [1., 0., 2., 1.],\n",
       "        [1., 1., 1., 1.]])"
      ]
     },
     "execution_count": 63,
     "metadata": {},
     "output_type": "execute_result"
    }
   ],
   "source": [
    "m = np.matrix([[1., 2., 0., 0.],\n",
    "      [0., 1., 0., 0.],\n",
    "      [1.,0.,2.,1.],\n",
    "      [1.,1.,1.,1.]])\n",
    "m"
   ]
  },
  {
   "cell_type": "code",
   "execution_count": 64,
   "id": "8e9a6d23",
   "metadata": {},
   "outputs": [
    {
     "data": {
      "text/plain": [
       "10"
      ]
     },
     "execution_count": 64,
     "metadata": {},
     "output_type": "execute_result"
    }
   ],
   "source": [
    "(m[np.where(m != 0)]).size # count how many non-zero values"
   ]
  },
  {
   "cell_type": "code",
   "execution_count": 65,
   "id": "f938f714",
   "metadata": {},
   "outputs": [
    {
     "name": "stdout",
     "output_type": "stream",
     "text": [
      "2\n",
      "1\n",
      "3\n",
      "4\n"
     ]
    }
   ],
   "source": [
    "for i in range(len(m)):\n",
    "    print((m[np.where(m[i] != 0)]).size)"
   ]
  },
  {
   "cell_type": "code",
   "execution_count": 67,
   "id": "fffa9aca",
   "metadata": {},
   "outputs": [
    {
     "name": "stdout",
     "output_type": "stream",
     "text": [
      "[[1. 2.]]\n",
      "[[1.]]\n",
      "[[1. 2. 1.]]\n",
      "[[1. 1. 1. 1.]]\n"
     ]
    }
   ],
   "source": [
    "for i in range(len(m)):\n",
    "    print(m[i][np.where(m[i] != 0)])"
   ]
  },
  {
   "cell_type": "code",
   "execution_count": null,
   "id": "0e4480a7",
   "metadata": {},
   "outputs": [],
   "source": []
  }
 ],
 "metadata": {
  "@webio": {
   "lastCommId": null,
   "lastKernelId": null
  },
  "kernelspec": {
   "display_name": "Python 3 (ipykernel)",
   "language": "python",
   "name": "python3"
  },
  "language_info": {
   "codemirror_mode": {
    "name": "ipython",
    "version": 3
   },
   "file_extension": ".py",
   "mimetype": "text/x-python",
   "name": "python",
   "nbconvert_exporter": "python",
   "pygments_lexer": "ipython3",
   "version": "3.9.12"
  }
 },
 "nbformat": 4,
 "nbformat_minor": 5
}
